{
 "cells": [
  {
   "cell_type": "code",
   "execution_count": null,
   "id": "011d324d-0949-4a5d-b170-33385f145833",
   "metadata": {},
   "outputs": [],
   "source": [
    "import pandas as pd\n",
    "data = pd.read_csv(\"late.csv\")"
   ]
  },
  {
   "cell_type": "code",
   "execution_count": null,
   "id": "475ff01a-8ebc-4500-a53d-459eff2c4697",
   "metadata": {},
   "outputs": [],
   "source": [
    "data.fillna(0, inplace=True)  # Replace NaNs with 0 or use interpolation"
   ]
  },
  {
   "cell_type": "code",
   "execution_count": null,
   "id": "6fff1349-6878-4bd4-a27a-933527edc11f",
   "metadata": {},
   "outputs": [],
   "source": [
    "data['Protocol'] = data['Protocol'].astype('category').cat.codes"
   ]
  },
  {
   "cell_type": "code",
   "execution_count": null,
   "id": "2fe60e10-c006-40bc-9153-f4c16f659c06",
   "metadata": {},
   "outputs": [],
   "source": [
    "print(data.columns)\n"
   ]
  },
  {
   "cell_type": "code",
   "execution_count": null,
   "id": "1e1dd507-ec1a-467d-81e3-2fef0c3ce2c7",
   "metadata": {},
   "outputs": [],
   "source": [
    "data.columns = data.columns.str.strip()\n"
   ]
  },
  {
   "cell_type": "code",
   "execution_count": null,
   "id": "9d89cab8-1f59-4ac7-9e5c-0a42e46d8ae7",
   "metadata": {},
   "outputs": [],
   "source": [
    "from sklearn.preprocessing import StandardScaler\n",
    "scaler = StandardScaler()\n",
    "numerical_features = ['Length', 'Time']\n",
    "data[numerical_features] = scaler.fit_transform(data[numerical_features])"
   ]
  },
  {
   "cell_type": "code",
   "execution_count": null,
   "id": "160f8bf9-34b4-4fb7-b4fa-63f1c8bd1fd2",
   "metadata": {},
   "outputs": [],
   "source": [
    "X = data[['Length', 'Protocol', 'Time']]  # Features\n",
    "y = data['Info']  # Target"
   ]
  },
  {
   "cell_type": "code",
   "execution_count": null,
   "id": "64e13dae-5f36-4492-b3b3-7d55d3dfdc89",
   "metadata": {},
   "outputs": [],
   "source": [
    "from sklearn.model_selection import train_test_split\n",
    "X_train, X_test, y_train, y_test = train_test_split(X, y, test_size=0.2, random_state=42)"
   ]
  },
  {
   "cell_type": "code",
   "execution_count": null,
   "id": "b8daec6f-80e9-4ca1-87bc-4283fa7d8fa5",
   "metadata": {},
   "outputs": [],
   "source": [
    "from sklearn.ensemble import RandomForestClassifier\n",
    "model = RandomForestClassifier()\n",
    "model.fit(X_train, y_train)"
   ]
  },
  {
   "cell_type": "code",
   "execution_count": null,
   "id": "9d8b8ee9-9cd4-4926-916c-1308cac8e28f",
   "metadata": {},
   "outputs": [],
   "source": [
    "from sklearn.metrics import classification_report, accuracy_score\n",
    "y_pred = model.predict(X_test)\n",
    "print(\"Accuracy:\", accuracy_score(y_test, y_pred))\n",
    "print(\"Classification Report:\\n\", classification_report(y_test, y_pred))"
   ]
  },
  {
   "cell_type": "code",
   "execution_count": null,
   "id": "852798f9-1378-4f3c-8e40-df7749e5c8d9",
   "metadata": {},
   "outputs": [],
   "source": [
    "new_data = pd.read_csv(\"new_traffic.csv\")  # New network traffic data\n",
    "new_data['Protocol'] = new_data['Protocol'].astype('category').cat.codes\n",
    "new_data[numerical_features] = scaler.transform(new_data[numerical_features])\n",
    "predictions = model.predict(new_data[['Packet Size', 'Protocol', 'Duration']])\n",
    "print(predictions)"
   ]
  },
  {
   "cell_type": "code",
   "execution_count": null,
   "id": "47254f73-428f-467d-93fe-d1c642d385b6",
   "metadata": {},
   "outputs": [],
   "source": [
    "from sklearn.svm import OneClassSVM\n",
    "clf = OneClassSVM(gamma='auto').fit(X_train)\n",
    "anomalies = clf.predict(X_test)"
   ]
  },
  {
   "cell_type": "code",
   "execution_count": null,
   "id": "72cb94d1-c898-4cd0-bee5-bf530e2ac7e7",
   "metadata": {},
   "outputs": [],
   "source": [
    "import seaborn as sns\n",
    "import matplotlib.pyplot as plt\n",
    "sns.pairplot(data, hue='Anomalous')\n",
    "plt.show()"
   ]
  },
  {
   "cell_type": "code",
   "execution_count": null,
   "id": "000a0770-7bac-45ac-8e91-7154e57fdf0f",
   "metadata": {},
   "outputs": [],
   "source": []
  },
  {
   "cell_type": "code",
   "execution_count": null,
   "id": "624f106b-de06-4536-9bd0-b37fdbe60fc1",
   "metadata": {},
   "outputs": [],
   "source": []
  }
 ],
 "metadata": {
  "kernelspec": {
   "display_name": "Python 3 (ipykernel)",
   "language": "python",
   "name": "python3"
  },
  "language_info": {
   "codemirror_mode": {
    "name": "ipython",
    "version": 3
   },
   "file_extension": ".py",
   "mimetype": "text/x-python",
   "name": "python",
   "nbconvert_exporter": "python",
   "pygments_lexer": "ipython3",
   "version": "3.12.4"
  }
 },
 "nbformat": 4,
 "nbformat_minor": 5
}
